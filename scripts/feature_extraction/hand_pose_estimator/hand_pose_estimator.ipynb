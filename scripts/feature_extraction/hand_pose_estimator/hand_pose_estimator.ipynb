{
 "cells": [
  {
   "metadata": {},
   "cell_type": "markdown",
   "source": [
    "# data format\n",
    "each training sample is going to be:\n",
    "1 RGB image\n",
    "16 joints coordinate of 2d"
   ],
   "id": "764509dc42e12e28"
  },
  {
   "metadata": {
    "ExecuteTime": {
     "end_time": "2025-07-29T00:40:43.774914Z",
     "start_time": "2025-07-29T00:40:43.753767Z"
    }
   },
   "cell_type": "code",
   "source": [
    "import os\n",
    "\n",
    "import numpy as np\n",
    "import pandas as pd\n",
    "import torch\n",
    "from PIL import Image\n",
    "from torch import nn\n",
    "from torch.utils.data import Dataset\n",
    "from torchvision import transforms\n",
    "\n",
    "\n",
    "class HandJointsPngAndCsvDataset(Dataset):\n",
    "    def __init__(self, image_dir, joint_dir, image_size=(512, 512)):\n",
    "        self.image_dir = image_dir\n",
    "        self.joint_dir = joint_dir\n",
    "        self.image_size = image_size\n",
    "        self.image_files = sorted([f for f in os.listdir(image_dir) if f.endswith(\".png\")])\n",
    "        self.transform = transforms.Compose([\n",
    "            transforms.Resize(image_size),\n",
    "            transforms.ToTensor(),\n",
    "        ])\n",
    "\n",
    "    def __len__(self):\n",
    "        return len(self.image_files)\n",
    "\n",
    "    def __getitem__(self, idx):\n",
    "        image_file = self.image_files[idx]\n",
    "        image_path = os.path.join(self.image_dir, image_file)\n",
    "        label_file = image_file.replace(\".png\", \"_joints2d.csv\")\n",
    "        label_path = os.path.join(self.joint_dir, label_file)\n",
    "\n",
    "        img = Image.open(image_path).convert('RGB')\n",
    "        img = self.transform(img)\n",
    "\n",
    "        joint_df = pd.read_csv(label_path)\n",
    "        coords = joint_df[['u', 'v']].values.astype(np.float32)\n",
    "        coords /= self.image_size[0]\n",
    "\n",
    "        return img, torch.tensor(coords)\n"
   ],
   "id": "f9ef47d6c299737b",
   "outputs": [],
   "execution_count": 10
  },
  {
   "metadata": {},
   "cell_type": "markdown",
   "source": "# load the data",
   "id": "99ee22380310e702"
  },
  {
   "metadata": {
    "ExecuteTime": {
     "end_time": "2025-07-29T00:40:43.818590Z",
     "start_time": "2025-07-29T00:40:43.785045Z"
    }
   },
   "cell_type": "code",
   "source": [
    "image_dir = '../../../scripts/auto_generator/ply2obj2img'\n",
    "label_dir = '../../../scripts/auto_generator/ply2obj2img'\n",
    "\n",
    "dataset = HandJointsPngAndCsvDataset(image_dir, label_dir)\n",
    "dataloader = torch.utils.data.DataLoader(dataset, batch_size=16, shuffle=True)\n",
    "\n",
    "img, joints = dataset[0]\n",
    "print(img.shape)\n",
    "print(joints.shape)"
   ],
   "id": "604cacb8a937cbed",
   "outputs": [
    {
     "name": "stdout",
     "output_type": "stream",
     "text": [
      "torch.Size([3, 512, 512])\n",
      "torch.Size([16, 2])\n"
     ]
    }
   ],
   "execution_count": 11
  },
  {
   "metadata": {},
   "cell_type": "markdown",
   "source": "# define the model",
   "id": "bcd6a271c451c1b7"
  },
  {
   "metadata": {
    "ExecuteTime": {
     "end_time": "2025-07-29T00:40:43.840598Z",
     "start_time": "2025-07-29T00:40:43.835809Z"
    }
   },
   "cell_type": "code",
   "source": [
    "class MyHandEstimator(nn.Module):\n",
    "    def __init__(self, num_joints=16):\n",
    "        super().__init__()\n",
    "        self.backbone = nn.Sequential(\n",
    "            nn.Conv2d(in_channels=3, out_channels=32, kernel_size=5, stride=2, padding=2), # output 128*128\n",
    "            nn.ReLU(),\n",
    "            nn.Conv2d(in_channels=32, out_channels=64, kernel_size=3, stride=2, padding=1), # output 64*64\n",
    "            nn.ReLU(),\n",
    "            nn.Conv2d(in_channels=64, out_channels=128, kernel_size=3, stride=2, padding=1), # output 32*32\n",
    "            nn.ReLU(),\n",
    "            nn.AdaptiveAvgPool2d(1)\n",
    "        )\n",
    "        self.head = nn.Sequential(\n",
    "            nn.Flatten(),\n",
    "            nn.Linear(128, num_joints * 2),\n",
    "        )\n",
    "\n",
    "    def forward(self, x):\n",
    "        x = self.backbone(x)\n",
    "        x = self.head(x)\n",
    "        return x.view(-1, 16, 2)\n"
   ],
   "id": "3a6b57048b8e2780",
   "outputs": [],
   "execution_count": 12
  },
  {
   "metadata": {},
   "cell_type": "markdown",
   "source": "# training loop",
   "id": "efb86d720ed994a0"
  },
  {
   "metadata": {
    "ExecuteTime": {
     "end_time": "2025-07-29T01:20:13.333416Z",
     "start_time": "2025-07-29T00:40:43.857149Z"
    }
   },
   "cell_type": "code",
   "source": [
    "import torch\n",
    "\n",
    "device = torch.device(\"cuda\" if torch.cuda.is_available() else \"cpu\")\n",
    "model = MyHandEstimator().to(device)\n",
    "\n",
    "optimizer = torch.optim.Adam(model.parameters(), lr=1e-3)\n",
    "criterion = nn.MSELoss()\n",
    "\n",
    "dataloader = torch.utils.data.DataLoader(dataset, batch_size=16, shuffle=True)\n",
    "\n",
    "n_epochs = 30\n",
    "for epoch in range(n_epochs):\n",
    "    model.train()\n",
    "    total_loss = 0\n",
    "\n",
    "    for imgs, joints in dataloader:\n",
    "        imgs = imgs.to(device)\n",
    "        joints = joints.to(device)\n",
    "\n",
    "        preds = model(imgs)\n",
    "        loss = criterion(preds, joints)\n",
    "\n",
    "        optimizer.zero_grad()\n",
    "        loss.backward()\n",
    "        optimizer.step()\n",
    "\n",
    "        total_loss += loss.item()\n",
    "\n",
    "    print(f\"Epoch [{epoch+1}/{n_epochs}] Loss: {total_loss / len(dataloader):.6f}\")"
   ],
   "id": "bfc40bc782c01fb6",
   "outputs": [
    {
     "name": "stdout",
     "output_type": "stream",
     "text": [
      "Epoch [1/30] Loss: 0.018525\n",
      "Epoch [2/30] Loss: 0.000480\n",
      "Epoch [3/30] Loss: 0.000510\n",
      "Epoch [4/30] Loss: 0.000508\n",
      "Epoch [5/30] Loss: 0.000524\n",
      "Epoch [6/30] Loss: 0.000524\n",
      "Epoch [7/30] Loss: 0.000549\n",
      "Epoch [8/30] Loss: 0.000536\n",
      "Epoch [9/30] Loss: 0.000525\n",
      "Epoch [10/30] Loss: 0.000526\n",
      "Epoch [11/30] Loss: 0.000517\n",
      "Epoch [12/30] Loss: 0.000583\n",
      "Epoch [13/30] Loss: 0.000541\n",
      "Epoch [14/30] Loss: 0.000522\n",
      "Epoch [15/30] Loss: 0.000527\n",
      "Epoch [16/30] Loss: 0.000548\n",
      "Epoch [17/30] Loss: 0.000603\n",
      "Epoch [18/30] Loss: 0.000532\n",
      "Epoch [19/30] Loss: 0.000553\n",
      "Epoch [20/30] Loss: 0.000531\n",
      "Epoch [21/30] Loss: 0.000543\n",
      "Epoch [22/30] Loss: 0.000589\n",
      "Epoch [23/30] Loss: 0.000535\n",
      "Epoch [24/30] Loss: 0.000521\n",
      "Epoch [25/30] Loss: 0.000533\n",
      "Epoch [26/30] Loss: 0.000528\n",
      "Epoch [27/30] Loss: 0.000520\n",
      "Epoch [28/30] Loss: 0.000537\n",
      "Epoch [29/30] Loss: 0.000595\n",
      "Epoch [30/30] Loss: 0.000566\n"
     ]
    }
   ],
   "execution_count": 13
  },
  {
   "metadata": {},
   "cell_type": "markdown",
   "source": "# visualize predicted vs label",
   "id": "3ae99b9d8dd48dec"
  },
  {
   "metadata": {
    "ExecuteTime": {
     "end_time": "2025-07-29T01:20:18.564116Z",
     "start_time": "2025-07-29T01:20:17.665870Z"
    }
   },
   "cell_type": "code",
   "source": [
    "import matplotlib.pyplot as plt\n",
    "\n",
    "model.eval()\n",
    "\n",
    "with torch.no_grad():\n",
    "    img_tensor, gt = dataset[0]\n",
    "    input_tensor = img_tensor.unsqueeze(0).to(device)  # add batch dim\n",
    "    pred = model(input_tensor).cpu()[0].numpy()        # shape: (16, 2)\n",
    "\n",
    "gt_pixels = gt.numpy() * 512\n",
    "pred_pixels = pred * 512\n",
    "\n",
    "plt.figure(figsize=(5, 5))\n",
    "plt.imshow(img_tensor.permute(1, 2, 0))  # convert (C, H, W) → (H, W, C)\n",
    "plt.scatter(gt_pixels[:, 0], gt_pixels[:, 1], c='lime', label='GT')\n",
    "plt.scatter(pred_pixels[:, 0], pred_pixels[:, 1], c='red', label='Pred')\n",
    "plt.legend()\n",
    "plt.title(\"Predicted vs Ground Truth Joints\")\n",
    "plt.axis('off')\n",
    "plt.show()"
   ],
   "id": "2d341c039e5bd254",
   "outputs": [
    {
     "data": {
      "text/plain": [
       "<Figure size 500x500 with 1 Axes>"
      ],
      "image/png": "[encoded data removed]"
     },
     "metadata": {},
     "output_type": "display_data"
    }
   ],
   "execution_count": 14
  }
 ],
 "metadata": {
  "kernelspec": {
   "display_name": "Python 3",
   "language": "python",
   "name": "python3"
  },
  "language_info": {
   "codemirror_mode": {
    "name": "ipython",
    "version": 2
   },
   "file_extension": ".py",
   "mimetype": "text/x-python",
   "name": "python",
   "nbconvert_exporter": "python",
   "pygments_lexer": "ipython2",
   "version": "2.7.6"
  }
 },
 "nbformat": 4,
 "nbformat_minor": 5
}
